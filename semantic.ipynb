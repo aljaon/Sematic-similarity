{
 "cells": [
  {
   "cell_type": "code",
   "execution_count": 1,
   "metadata": {},
   "outputs": [],
   "source": [
    "import spacy\n",
    "\n",
    "nlp = spacy.load(\"en_core_web_lg\")\n",
    "\n",
    "tokens = nlp(\"cat monkey apple banana\")"
   ]
  },
  {
   "cell_type": "code",
   "execution_count": 2,
   "metadata": {},
   "outputs": [
    {
     "name": "stdout",
     "output_type": "stream",
     "text": [
      "cat cat 1.0\n",
      "cat monkey 0.5929930210113525\n",
      "cat apple 0.2036806046962738\n",
      "cat banana 0.2235882580280304\n",
      "monkey cat 0.5929930210113525\n",
      "monkey monkey 1.0\n",
      "monkey apple 0.2342509925365448\n",
      "monkey banana 0.4041501581668854\n",
      "apple cat 0.2036806046962738\n",
      "apple monkey 0.2342509925365448\n",
      "apple apple 1.0\n",
      "apple banana 0.6646699905395508\n",
      "banana cat 0.2235882580280304\n",
      "banana monkey 0.4041501581668854\n",
      "banana apple 0.6646699905395508\n",
      "banana banana 1.0\n"
     ]
    }
   ],
   "source": [
    "for token1 in tokens:\n",
    "    for token2 in tokens:\n",
    "        print(token1.text, token2.text, token1.similarity(token2))\n",
    "       \n",
    "#Cat and Monkey are more similar than Banana and Monkey (Both cat and monkey are animals)\n",
    "#Cat and Banana are the least similar\n",
    "#Most similar are banana and apple (both are fruits)\n",
    "#en_core_web_sm makes monkey and banana the most similar but not much difference"
   ]
  },
  {
   "cell_type": "code",
   "execution_count": 3,
   "metadata": {},
   "outputs": [
    {
     "name": "stdout",
     "output_type": "stream",
     "text": [
      "where did my dog go - 0.630065230699739\n",
      "Hello, there is my car - 0.8033180111627156\n",
      "I've lost my car in my car - 0.6787541571030323\n",
      "I'd like my boat back - 0.5624940517078084\n",
      "I will name my dog Diana - 0.6491444739190607\n"
     ]
    }
   ],
   "source": [
    "sentence_to_compare =\"Why is my cat on the car\"\n",
    "\n",
    "sentences = [\"where did my dog go\",\n",
    "            \"Hello, there is my car\",\n",
    "            \"I\\'ve lost my car in my car\",\n",
    "            \"I\\'d like my boat back\",\n",
    "            \"I will name my dog Diana\"]\n",
    "\n",
    "model_sentence = nlp(sentence_to_compare)\n",
    "\n",
    "for sentence in sentences:\n",
    "    similarity = nlp(sentence).similarity(model_sentence)\n",
    "    print(sentence + \" - \" + str(similarity))\n",
    "    \n",
    "#\"Hello, there is my car\" is most similar to \"Why is my cat on the car\" as both sentences are referring to a car as the subject"
   ]
  },
  {
   "cell_type": "code",
   "execution_count": 4,
   "metadata": {},
   "outputs": [
    {
     "name": "stdout",
     "output_type": "stream",
     "text": [
      "('Movie C ', 0.9091603811329738)\n"
     ]
    }
   ],
   "source": [
    "movie_input = \"\"\"Will he save their world or destroy it? When the Hulk becomes too \n",
    "dangerous for the Earth, the Illuminati trick Hulk into a shuttle and launch him into space to a planet where the Hulk can live in peace.\n",
    "Unfortunately, Hulk lands on the planet Sakaar where he is sold into slavery and trained as a gladiator.\"\"\"\n",
    "\n",
    "def most_simular(movie_input):\n",
    "    \n",
    "    #Keep track of highest similarity\n",
    "    max_similarity_score = 0        \n",
    "    max_similarity_score_name = \"\"\n",
    "    \n",
    "    try:\n",
    "        #Open file and split to put each line into a list\n",
    "        file = open(\"./movies.txt\", \"r\")\n",
    "        movies = file.read()\n",
    "        movies_list = movies.split(\"\\n\")\n",
    "        \n",
    "        #Convert input string into a token format\n",
    "        movie_input = nlp(movie_input)\n",
    "        \n",
    "        for movie in movies_list:\n",
    "            \n",
    "            if \":\" in movie:\n",
    "                \n",
    "                #Split name of movie and description\n",
    "                movie_split = movie.split(\":\")\n",
    "                \n",
    "                movie_label = movie_split[0]\n",
    "                movie_description = nlp(movie_split[1])\n",
    "                \n",
    "                #Find simularity\n",
    "                similarity_score = movie_description.similarity(movie_input)\n",
    "                \n",
    "                #Check if simularity score is greater than the current highest\n",
    "                if similarity_score > max_similarity_score:\n",
    "                    max_similarity_score = similarity_score\n",
    "                    max_similarity_score_name = movie_label\n",
    "                \n",
    "        file.close()\n",
    "        \n",
    "    except FileNotFoundError:\n",
    "        print(\"Cant find file\")\n",
    "        \n",
    "    return max_similarity_score_name, max_similarity_score\n",
    "\n",
    "\n",
    "print(most_simular(movie_input))\n"
   ]
  }
 ],
 "metadata": {
  "kernelspec": {
   "display_name": "Python 3",
   "language": "python",
   "name": "python3"
  },
  "language_info": {
   "codemirror_mode": {
    "name": "ipython",
    "version": 3
   },
   "file_extension": ".py",
   "mimetype": "text/x-python",
   "name": "python",
   "nbconvert_exporter": "python",
   "pygments_lexer": "ipython3",
   "version": "3.11.5"
  }
 },
 "nbformat": 4,
 "nbformat_minor": 2
}
